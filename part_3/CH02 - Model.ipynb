{
 "cells": [
  {
   "cell_type": "markdown",
   "id": "6b47ca38",
   "metadata": {},
   "source": [
    "# Sequential"
   ]
  },
  {
   "cell_type": "code",
   "execution_count": 15,
   "id": "b690094d",
   "metadata": {},
   "outputs": [],
   "source": [
    "from tensorflow import keras\n",
    "from tensorflow.keras import layers\n",
    "from tensorflow.keras import activations\n",
    "\n",
    "import os\n",
    "os.environ['CUDA_VISIBLE_DEVICES'] = '1'"
   ]
  },
  {
   "cell_type": "code",
   "execution_count": 16,
   "id": "5b39999f",
   "metadata": {},
   "outputs": [
    {
     "name": "stdout",
     "output_type": "stream",
     "text": [
      "Model: \"sequential_4\"\n",
      "_________________________________________________________________\n",
      " Layer (type)                Output Shape              Param #   \n",
      "=================================================================\n",
      " conv2d_16 (Conv2D)          (None, 256, 256, 64)      1792      \n",
      "                                                                 \n",
      " conv2d_17 (Conv2D)          (None, 256, 256, 64)      36928     \n",
      "                                                                 \n",
      " max_pooling2d_8 (MaxPooling  (None, 128, 128, 64)     0         \n",
      " 2D)                                                             \n",
      "                                                                 \n",
      " batch_normalization_8 (Batc  (None, 128, 128, 64)     256       \n",
      " hNormalization)                                                 \n",
      "                                                                 \n",
      " dropout_8 (Dropout)         (None, 128, 128, 64)      0         \n",
      "                                                                 \n",
      " conv2d_18 (Conv2D)          (None, 128, 128, 128)     73856     \n",
      "                                                                 \n",
      " conv2d_19 (Conv2D)          (None, 128, 128, 128)     147584    \n",
      "                                                                 \n",
      " max_pooling2d_9 (MaxPooling  (None, 64, 64, 128)      0         \n",
      " 2D)                                                             \n",
      "                                                                 \n",
      " batch_normalization_9 (Batc  (None, 64, 64, 128)      512       \n",
      " hNormalization)                                                 \n",
      "                                                                 \n",
      " dropout_9 (Dropout)         (None, 64, 64, 128)       0         \n",
      "                                                                 \n",
      " global_max_pooling2d_4 (Glo  (None, 128)              0         \n",
      " balMaxPooling2D)                                                \n",
      "                                                                 \n",
      " dense_8 (Dense)             (None, 128)               16512     \n",
      "                                                                 \n",
      " dense_9 (Dense)             (None, 1)                 129       \n",
      "                                                                 \n",
      "=================================================================\n",
      "Total params: 277,569\n",
      "Trainable params: 277,185\n",
      "Non-trainable params: 384\n",
      "_________________________________________________________________\n"
     ]
    }
   ],
   "source": [
    "def get_sequential_model(input_shape):\n",
    "    model = keras.Sequential(\n",
    "        [\n",
    "            # Input\n",
    "            layers.Input(input_shape),\n",
    "            \n",
    "            # 1st Conv block\n",
    "            layers.Conv2D(64, 3, strides=1, activation='relu', padding='same'),\n",
    "            layers.Conv2D(64, 3, strides=1, activation='relu', padding='same'),\n",
    "            layers.MaxPool2D(),\n",
    "            layers.BatchNormalization(),\n",
    "            layers.Dropout(0.5),\n",
    "            \n",
    "            # 2nd Conv block\n",
    "            layers.Conv2D(128, 3, strides=1, activation='relu', padding='same'),\n",
    "            layers.Conv2D(128, 3, strides=1, activation='relu', padding='same'),\n",
    "            layers.MaxPool2D(),\n",
    "            layers.BatchNormalization(),\n",
    "            layers.Dropout(0.3),\n",
    "            \n",
    "            # Classifier\n",
    "            layers.GlobalMaxPool2D(),\n",
    "            layers.Dense(128, activation='relu'),\n",
    "            layers.Dense(1, activation='sigmoid')\n",
    "        ]\n",
    "    )\n",
    "    return model\n",
    "\n",
    "input_shape = (256, 256, 3)\n",
    "model = get_sequential_model(input_shape)\n",
    "\n",
    "model.summary()"
   ]
  },
  {
   "cell_type": "markdown",
   "id": "fd2bfa97",
   "metadata": {},
   "source": [
    "# Functional"
   ]
  },
  {
   "cell_type": "code",
   "execution_count": 20,
   "id": "baa895f6",
   "metadata": {},
   "outputs": [
    {
     "name": "stdout",
     "output_type": "stream",
     "text": [
      "Model: \"model_2\"\n",
      "_________________________________________________________________\n",
      " Layer (type)                Output Shape              Param #   \n",
      "=================================================================\n",
      " input_8 (InputLayer)        [(None, 256, 256, 3)]     0         \n",
      "                                                                 \n",
      " conv2d_28 (Conv2D)          (None, 256, 256, 64)      1792      \n",
      "                                                                 \n",
      " conv2d_29 (Conv2D)          (None, 256, 256, 64)      36928     \n",
      "                                                                 \n",
      " max_pooling2d_14 (MaxPoolin  (None, 128, 128, 64)     0         \n",
      " g2D)                                                            \n",
      "                                                                 \n",
      " batch_normalization_14 (Bat  (None, 128, 128, 64)     256       \n",
      " chNormalization)                                                \n",
      "                                                                 \n",
      " dropout_14 (Dropout)        (None, 128, 128, 64)      0         \n",
      "                                                                 \n",
      " conv2d_30 (Conv2D)          (None, 128, 128, 128)     73856     \n",
      "                                                                 \n",
      " conv2d_31 (Conv2D)          (None, 128, 128, 128)     147584    \n",
      "                                                                 \n",
      " max_pooling2d_15 (MaxPoolin  (None, 64, 64, 128)      0         \n",
      " g2D)                                                            \n",
      "                                                                 \n",
      " batch_normalization_15 (Bat  (None, 64, 64, 128)      512       \n",
      " chNormalization)                                                \n",
      "                                                                 \n",
      " dropout_15 (Dropout)        (None, 64, 64, 128)       0         \n",
      "                                                                 \n",
      " global_max_pooling2d_7 (Glo  (None, 128)              0         \n",
      " balMaxPooling2D)                                                \n",
      "                                                                 \n",
      " dense_14 (Dense)            (None, 128)               16512     \n",
      "                                                                 \n",
      " dense_15 (Dense)            (None, 1)                 129       \n",
      "                                                                 \n",
      "=================================================================\n",
      "Total params: 277,569\n",
      "Trainable params: 277,185\n",
      "Non-trainable params: 384\n",
      "_________________________________________________________________\n"
     ]
    }
   ],
   "source": [
    "def get_functional_model(input_shape):\n",
    "    inputs = keras.Input(input_shape)\n",
    "\n",
    "    # 1st Conv block\n",
    "    x = layers.Conv2D(64, 3, strides=1, activation='relu', padding='same')(inputs)\n",
    "    x = layers.Conv2D(64, 3, strides=1, activation='relu', padding='same')(x)\n",
    "    x = layers.MaxPool2D()(x)\n",
    "    x = layers.BatchNormalization()(x)\n",
    "    x = layers.Dropout(0.5)(x)\n",
    "\n",
    "    # 2nd Conv block\n",
    "    x = layers.Conv2D(128, 3, strides=1, activation='relu', padding='same')(x)\n",
    "    x = layers.Conv2D(128, 3, strides=1, activation='relu', padding='same')(x)\n",
    "    x = layers.MaxPool2D()(x)\n",
    "    x = layers.BatchNormalization()(x)\n",
    "    x = layers.Dropout(0.3)(x)\n",
    "\n",
    "    # Classifier\n",
    "    x = layers.GlobalMaxPool2D()(x)\n",
    "    x = layers.Dense(128, activation='relu')(x)\n",
    "    outputs = layers.Dense(1, activation='sigmoid')(x)\n",
    "    \n",
    "    model = keras.Model(inputs, outputs)\n",
    "    \n",
    "    return model\n",
    "    \n",
    "    \n",
    "input_shape = (256, 256, 3)\n",
    "model = get_functional_model(input_shape)\n",
    "model.summary()"
   ]
  },
  {
   "cell_type": "markdown",
   "id": "cabe42d8",
   "metadata": {},
   "source": [
    "# Model subclassing"
   ]
  },
  {
   "cell_type": "code",
   "execution_count": 22,
   "id": "b8ca7b58",
   "metadata": {},
   "outputs": [],
   "source": [
    "class SimpleCNN(keras.Model):\n",
    "    def __init__(self):\n",
    "        super(SimpleCNN, self).__init__()\n",
    "        \n",
    "        self.conv_block1 = keras.Sequential(\n",
    "            [\n",
    "                layers.Conv2D(64, 3, strides=1, activation='relu', padding='same'),\n",
    "                layers.Conv2D(64, 3, strides=1, activation='relu', padding='same'),\n",
    "                layers.MaxPool2D(),\n",
    "                layers.BatchNormalization(),\n",
    "                layers.Dropout(0.5),\n",
    "            ], name='conv_block1'\n",
    "        )\n",
    "        \n",
    "        self.conv_block2 = keras.Sequential(\n",
    "            [\n",
    "                layers.Conv2D(128, 3, strides=1, activation='relu', padding='same'),\n",
    "                layers.Conv2D(128, 3, strides=1, activation='relu', padding='same'),\n",
    "                layers.MaxPool2D(),\n",
    "                layers.BatchNormalization(),\n",
    "                layers.Dropout(0.3),\n",
    "            ], name='conv_block2'\n",
    "        )\n",
    "        self.classifier = keras.Sequential(\n",
    "            [\n",
    "                layers.GlobalMaxPool2D(),\n",
    "                layers.Dense(128, activation='relu'),\n",
    "                layers.Dense(1, activation='sigmoid')\n",
    "            ], name='classifier'\n",
    "        )\n",
    "        \n",
    "    def call(self, input_tensor, training=False):\n",
    "        x = self.conv_block1(input_tensor)\n",
    "        x = self.conv_block2(x)\n",
    "        x = self.classifier(x)\n",
    "        \n",
    "        return x"
   ]
  },
  {
   "cell_type": "code",
   "execution_count": 24,
   "id": "d9b7ead8",
   "metadata": {},
   "outputs": [
    {
     "name": "stdout",
     "output_type": "stream",
     "text": [
      "Model: \"simple_cnn\"\n",
      "_________________________________________________________________\n",
      " Layer (type)                Output Shape              Param #   \n",
      "=================================================================\n",
      " conv_block1 (Sequential)    (None, 128, 128, 64)      38976     \n",
      "                                                                 \n",
      " conv_block2 (Sequential)    (None, 64, 64, 128)       221952    \n",
      "                                                                 \n",
      " classifier (Sequential)     (None, 1)                 16641     \n",
      "                                                                 \n",
      "=================================================================\n",
      "Total params: 277,569\n",
      "Trainable params: 277,185\n",
      "Non-trainable params: 384\n",
      "_________________________________________________________________\n"
     ]
    }
   ],
   "source": [
    "input_shape = (None, 256, 256, 3)\n",
    "model = SimpleCNN()\n",
    "model.build(input_shape)\n",
    "\n",
    "model.summary()"
   ]
  },
  {
   "cell_type": "markdown",
   "id": "de718598",
   "metadata": {},
   "source": [
    "# Model compiling"
   ]
  },
  {
   "cell_type": "code",
   "execution_count": 29,
   "id": "8a96457d",
   "metadata": {},
   "outputs": [],
   "source": [
    "model.compile(\n",
    "    optimizer='adam',\n",
    "    loss='binary_crossentropy',\n",
    "    metrics='accuracy'\n",
    ")"
   ]
  },
  {
   "cell_type": "code",
   "execution_count": null,
   "id": "28c1ccd2",
   "metadata": {},
   "outputs": [],
   "source": []
  }
 ],
 "metadata": {
  "kernelspec": {
   "display_name": "Python 3",
   "language": "python",
   "name": "python3"
  },
  "language_info": {
   "codemirror_mode": {
    "name": "ipython",
    "version": 3
   },
   "file_extension": ".py",
   "mimetype": "text/x-python",
   "name": "python",
   "nbconvert_exporter": "python",
   "pygments_lexer": "ipython3",
   "version": "3.8.8"
  }
 },
 "nbformat": 4,
 "nbformat_minor": 5
}

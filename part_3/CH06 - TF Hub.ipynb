{
 "cells": [
  {
   "cell_type": "markdown",
   "id": "84ecb138",
   "metadata": {},
   "source": [
    "# TF Hub\n",
    "\n",
    "https://tfhub.dev/"
   ]
  },
  {
   "cell_type": "code",
   "execution_count": 1,
   "id": "b4a0cfa2",
   "metadata": {},
   "outputs": [],
   "source": [
    "import os\n",
    "import math\n",
    "import random\n",
    "\n",
    "import cv2\n",
    "import numpy as np\n",
    "import pandas as pd\n",
    "import tensorflow as tf\n",
    "import matplotlib.pyplot as plt\n",
    "\n",
    "from tensorflow import keras\n",
    "from tensorflow.keras import layers\n",
    "from tensorflow.keras import activations\n",
    "\n",
    "os.environ['CUDA_VISIBLE_DEVICES'] = '0'"
   ]
  },
  {
   "cell_type": "code",
   "execution_count": 2,
   "id": "5608e4cf",
   "metadata": {},
   "outputs": [
    {
     "name": "stdout",
     "output_type": "stream",
     "text": [
      "Model: \"sequential\"\n",
      "_________________________________________________________________\n",
      " Layer (type)                Output Shape              Param #   \n",
      "=================================================================\n",
      " keras_layer (KerasLayer)    (None, 1280)              5919312   \n",
      "                                                                 \n",
      " dense (Dense)               (None, 1)                 1281      \n",
      "                                                                 \n",
      "=================================================================\n",
      "Total params: 5,920,593\n",
      "Trainable params: 5,859,985\n",
      "Non-trainable params: 60,608\n",
      "_________________________________________________________________\n"
     ]
    }
   ],
   "source": [
    "import tensorflow_hub as hub\n",
    "\n",
    "model = tf.keras.Sequential([\n",
    "    hub.KerasLayer(\"https://tfhub.dev/google/imagenet/efficientnet_v2_imagenet1k_b0/feature_vector/2\",\n",
    "                   trainable=True),  # Can be True, see below.\n",
    "    tf.keras.layers.Dense(1, activation='sigmoid')\n",
    "])\n",
    "model.build([None, 256, 256, 3])  # Batch input shape.\n",
    "\n",
    "adam = keras.optimizers.Adam(learning_rate=0.0001)\n",
    "\n",
    "model.compile(\n",
    "    optimizer=adam,\n",
    "    loss='binary_crossentropy',\n",
    "    metrics='accuracy'\n",
    ")\n",
    "\n",
    "model.summary()"
   ]
  },
  {
   "cell_type": "code",
   "execution_count": 3,
   "id": "6cfbf414",
   "metadata": {},
   "outputs": [],
   "source": [
    "import albumentations as A\n",
    "\n",
    "class Augmentation:\n",
    "    def __init__(self, size, mode='train'):\n",
    "        if mode == 'train':\n",
    "            self.transform = A.Compose([\n",
    "                A.HorizontalFlip(p=0.5),\n",
    "                A.ShiftScaleRotate(\n",
    "                    p=0.5,\n",
    "                    shift_limit=0.05,\n",
    "                    scale_limit=0.05,\n",
    "                    rotate_limit=15\n",
    "                ),\n",
    "                A.CoarseDropout(\n",
    "                    p=0.5,\n",
    "                    max_holes=8,\n",
    "                    max_height=int(0.1 * size),\n",
    "                    max_width=int(0.1 * size)\n",
    "                ),\n",
    "                A.RandomBrightnessContrast(p=0.2),  \n",
    "            ])\n",
    "    def __call__(self, **kwargs):\n",
    "        if self.transform:\n",
    "            augmented = self.transform(**kwargs)\n",
    "            img = augmented['image']\n",
    "            return img"
   ]
  },
  {
   "cell_type": "code",
   "execution_count": 4,
   "id": "76931a25",
   "metadata": {},
   "outputs": [],
   "source": [
    "class DataGenerator(keras.utils.Sequence):\n",
    "    def __init__(self, batch_size, csv_path, fold, image_size, mode='train', shuffle=True):\n",
    "        self.batch_size = batch_size\n",
    "        self.image_size = image_size\n",
    "        self.shuffle = shuffle\n",
    "        self.fold = fold\n",
    "        self.mode = mode\n",
    "        \n",
    "        self.df = pd.read_csv(csv_path)\n",
    "        \n",
    "        if self.mode == 'train':\n",
    "            self.df = self.df[self.df['fold'] != self.fold]\n",
    "        elif self.mode == 'val':\n",
    "            self.df = self.df[self.df['fold'] == self.fold]\n",
    "        \n",
    "        invalid_filnames = [\n",
    "            'Egyptian_Mau_14',\n",
    "            'Egyptian_Mau_139',\n",
    "            'Egyptian_Mau_145',\n",
    "            'Egyptian_Mau_156',\n",
    "            'Egyptian_Mau_167',\n",
    "            'Egyptian_Mau_177',\n",
    "            'Egyptian_Mau_186',\n",
    "            'Egyptian_Mau_191',\n",
    "            'Abyssinian_5',\n",
    "            'Abyssinian_34',\n",
    "            'chihuahua_121',\n",
    "            'beagle_116'\n",
    "        ]\n",
    "        self.df = self.df[-self.df['file_name'].isin(invalid_filnames)]\n",
    "        self.transform = Augmentation(image_size, mode)\n",
    "        \n",
    "        self.on_epoch_end()\n",
    "        \n",
    "    def __len__(self):\n",
    "        return math.ceil(len(self.df) / self.batch_size)\n",
    "    \n",
    "    def __getitem__(self, idx):\n",
    "        start = idx * self.batch_size\n",
    "        final = (idx + 1) * self.batch_size\n",
    "        data = self.df.iloc[start:final]\n",
    "        \n",
    "        batch_x, batch_y = self.get_data(data)\n",
    "        \n",
    "        return np.array(batch_x), np.array(batch_y)\n",
    "        \n",
    "    def get_data(self, data):\n",
    "        batch_x = []\n",
    "        batch_y = []\n",
    "        \n",
    "        for _, r in data.iterrows():\n",
    "            file_name = r['file_name']\n",
    "            \n",
    "            image = cv2.imread(f'data/images/{file_name}.jpg') # f는 f-string 문자열 포매팅\n",
    "            image = cv2.cvtColor(image, cv2.COLOR_BGR2RGB)\n",
    "            \n",
    "            image = cv2.resize(image, (self.image_size, self.image_size))\n",
    "            \n",
    "            if self.mode == 'train':\n",
    "                image = image.astype('uint8')\n",
    "                image = self.transform(image=image)\n",
    "                \n",
    "            image = image.astype('float32')\n",
    "            image = image / 255.\n",
    "        \n",
    "            label = int(r['species']) - 1 # 고양이 1, 개 2 이므로 1 빼줌\n",
    "            \n",
    "            batch_x.append(image)\n",
    "            batch_y.append(label)\n",
    "        \n",
    "        return batch_x, batch_y\n",
    "        \n",
    "    def on_epoch_end(self):\n",
    "        if self.shuffle:\n",
    "            self.df = self.df.sample(frac=1).reset_index(drop=True)"
   ]
  },
  {
   "cell_type": "code",
   "execution_count": 5,
   "id": "9000b143",
   "metadata": {},
   "outputs": [],
   "source": [
    "csv_path = 'data/kfolds.csv'\n",
    "train_generator = DataGenerator(\n",
    "    fold=1,\n",
    "    mode='train',\n",
    "    csv_path=csv_path,\n",
    "    batch_size=64,\n",
    "    image_size=256,\n",
    "    shuffle=True\n",
    ")\n",
    "valid_generator = DataGenerator(\n",
    "    fold=1,\n",
    "    mode='val',\n",
    "    csv_path=csv_path,\n",
    "    batch_size=64,\n",
    "    image_size=256,\n",
    "    shuffle=True\n",
    ")"
   ]
  },
  {
   "cell_type": "code",
   "execution_count": 6,
   "id": "2f2064d0",
   "metadata": {},
   "outputs": [
    {
     "name": "stdout",
     "output_type": "stream",
     "text": [
      "Epoch 1/10\n",
      "92/92 [==============================] - 562s 6s/step - loss: 0.1872 - accuracy: 0.9471 - val_loss: 0.0298 - val_accuracy: 0.9925\n",
      "Epoch 2/10\n",
      "92/92 [==============================] - 576s 6s/step - loss: 0.0317 - accuracy: 0.9903 - val_loss: 0.0154 - val_accuracy: 0.9932\n",
      "Epoch 3/10\n",
      "92/92 [==============================] - 541s 6s/step - loss: 0.0148 - accuracy: 0.9971 - val_loss: 0.0089 - val_accuracy: 0.9966\n",
      "Epoch 4/10\n",
      "92/92 [==============================] - 537s 6s/step - loss: 0.0090 - accuracy: 0.9976 - val_loss: 0.0131 - val_accuracy: 0.9959\n",
      "Epoch 5/10\n",
      "92/92 [==============================] - 542s 6s/step - loss: 0.0083 - accuracy: 0.9978 - val_loss: 0.0054 - val_accuracy: 0.9993\n",
      "Epoch 6/10\n",
      "92/92 [==============================] - 571s 6s/step - loss: 0.0117 - accuracy: 0.9966 - val_loss: 0.0067 - val_accuracy: 0.9973\n",
      "Epoch 7/10\n",
      "92/92 [==============================] - 586s 6s/step - loss: 0.0052 - accuracy: 0.9985 - val_loss: 0.0091 - val_accuracy: 0.9966\n",
      "Epoch 8/10\n",
      "92/92 [==============================] - 564s 6s/step - loss: 0.0062 - accuracy: 0.9978 - val_loss: 0.0071 - val_accuracy: 0.9973\n",
      "Epoch 9/10\n",
      "92/92 [==============================] - 563s 6s/step - loss: 0.0083 - accuracy: 0.9971 - val_loss: 0.0087 - val_accuracy: 0.9966\n",
      "Epoch 10/10\n",
      "92/92 [==============================] - 562s 6s/step - loss: 0.0037 - accuracy: 0.9990 - val_loss: 0.0033 - val_accuracy: 0.9993\n"
     ]
    }
   ],
   "source": [
    "history = model.fit(\n",
    "    train_generator,\n",
    "    validation_data=valid_generator,\n",
    "    epochs=10,\n",
    "    verbose=1\n",
    ")"
   ]
  },
  {
   "cell_type": "code",
   "execution_count": 7,
   "id": "580a963b",
   "metadata": {},
   "outputs": [
    {
     "data": {
      "image/png": "[encoded data removed]",
      "text/plain": [
       "<Figure size 1080x360 with 2 Axes>"
      ]
     },
     "metadata": {
      "needs_background": "light"
     },
     "output_type": "display_data"
    }
   ],
   "source": [
    "import matplotlib.pyplot as plt\n",
    "history = history.history\n",
    "\n",
    "plt.figure(figsize=(15, 5))\n",
    "plt.subplot(1, 2, 1)\n",
    "plt.plot(history['loss'], label='train')\n",
    "plt.plot(history['val_loss'], label='val')\n",
    "plt.legend()\n",
    "plt.xlabel('epoch')\n",
    "plt.ylabel('loss')\n",
    "plt.title(\"Loss\")\n",
    "\n",
    "plt.subplot(1, 2, 2)\n",
    "plt.plot(history['accuracy'], label='train')\n",
    "plt.plot(history['val_accuracy'], label='val')\n",
    "plt.legend()\n",
    "plt.xlabel('epoch')\n",
    "plt.ylabel('accuracy')\n",
    "plt.title(\"Accuracy\")\n",
    "plt.show()"
   ]
  },
  {
   "cell_type": "code",
   "execution_count": null,
   "id": "2e406646",
   "metadata": {},
   "outputs": [],
   "source": []
  }
 ],
 "metadata": {
  "kernelspec": {
   "display_name": "Python 3",
   "language": "python",
   "name": "python3"
  },
  "language_info": {
   "codemirror_mode": {
    "name": "ipython",
    "version": 3
   },
   "file_extension": ".py",
   "mimetype": "text/x-python",
   "name": "python",
   "nbconvert_exporter": "python",
   "pygments_lexer": "ipython3",
   "version": "3.8.8"
  }
 },
 "nbformat": 4,
 "nbformat_minor": 5
}

{
 "cells": [
  {
   "cell_type": "markdown",
   "metadata": {},
   "source": [
    "## Residual Network 구현 및 학습"
   ]
  },
  {
   "cell_type": "code",
   "execution_count": 1,
   "metadata": {},
   "outputs": [],
   "source": [
    "import time\n",
    "import os\n",
    "import numpy as np\n",
    "import matplotlib.pyplot as plt\n",
    "import tensorflow as tf\n",
    "\n",
    "os.environ['CUDA_VISIBLE_DEVICES'] = '0'"
   ]
  },
  {
   "cell_type": "markdown",
   "metadata": {},
   "source": [
    "## 하이퍼 파라미터"
   ]
  },
  {
   "cell_type": "code",
   "execution_count": 2,
   "metadata": {},
   "outputs": [],
   "source": [
    "EPOCHS = 10"
   ]
  },
  {
   "cell_type": "markdown",
   "metadata": {},
   "source": [
    "## Residual Unit 구현"
   ]
  },
  {
   "cell_type": "code",
   "execution_count": 9,
   "metadata": {},
   "outputs": [],
   "source": [
    "class ResidualUnit(tf.keras.Model):\n",
    "    def __init__(self, filter_in, filter_out, kernel_size):\n",
    "        super(ResidualUnit, self).__init__()\n",
    "        self.bn1 = tf.keras.layers.BatchNormalization()\n",
    "        self.conv1 = tf.keras.layers.Conv2D(filter_out, kernel_size, padding='same') # pre-activation이라 relu 안씀\n",
    "        \n",
    "        self.bn2 = tf.keras.layers.BatchNormalization()\n",
    "        self.conv2 = tf.keras.layers.Conv2D(filter_out, kernel_size, padding='same') # pre-activation이라 relu 안씀\n",
    "        \n",
    "        if filter_in == filter_out:\n",
    "            self.identity = lambda x: x\n",
    "        else:\n",
    "            self.identity = tf.keras.layers.Conv2D(filter_out, (1,1), padding='same')\n",
    "\n",
    "    def call(self, x, training=False, mask=None):\n",
    "        h = self.bn1(x, training=training) # training 변수 빼먹지 말기!\n",
    "        h = tf.nn.relu(h)\n",
    "        h = self.conv1(h)\n",
    "        \n",
    "        h = self.bn2(x, training=training)\n",
    "        h = tf.nn.relu(h)\n",
    "        h = self.conv2(h)\n",
    "        \n",
    "        return self.identity(x) + h"
   ]
  },
  {
   "cell_type": "markdown",
   "metadata": {},
   "source": [
    "## Residual Layer 구현"
   ]
  },
  {
   "cell_type": "code",
   "execution_count": 10,
   "metadata": {},
   "outputs": [],
   "source": [
    "class ResnetLayer(tf.keras.Model):\n",
    "    def __init__(self, filter_in, filters, kernel_size):\n",
    "        super(ResnetLayer, self).__init__()\n",
    "        self.sequence = list()\n",
    "        for f_in, f_out in zip([filter_in] + list(filters), filters):\n",
    "            # [16] + [32, 32, 32]\n",
    "            # zip([16 , 32 , 32 32], [32, 32 ,32])\n",
    "            self.sequence.append(ResidualUnit(f_in, f_out, kernel_size))\n",
    "\n",
    "    def call(self, x, training=False, mask=None):\n",
    "        for unit in self.sequence:\n",
    "            x = unit(x, training=training)\n",
    "        return x"
   ]
  },
  {
   "cell_type": "markdown",
   "metadata": {},
   "source": [
    "## 모델 정의"
   ]
  },
  {
   "cell_type": "code",
   "execution_count": 11,
   "metadata": {},
   "outputs": [],
   "source": [
    "class ResNet(tf.keras.Model):\n",
    "    def __init__(self):\n",
    "        super(ResNet, self).__init__()\n",
    "        self.conv1 = tf.keras.layers.Conv2D(8, (3, 3), padding='same', activation='relu') # 28x28x8\n",
    "        \n",
    "        self.res1 = ResnetLayer(8, (16, 16), (3, 3)) # 28x28x16\n",
    "        self.pool1 = tf.keras.layers.MaxPool2D(2, 2) # 14x14x16\n",
    "\n",
    "        \n",
    "        self.res2 = ResnetLayer(16, (32, 32), (3, 3)) # 14x14x32\n",
    "        self.pool2 = tf.keras.layers.MaxPool2D(2, 2) # 7x7x32\n",
    "        \n",
    "        self.res3 = ResnetLayer(32, (64, 64), (3, 3)) # 7x7x64\n",
    "        self.flatten = tf.keras.layers.Flatten()\n",
    "        self.dense1 = tf.keras.layers.Dense(128, activation='relu')\n",
    "        self.dense2 = tf.keras.layers.Dense(10, activation='softmax')\n",
    "        \n",
    "    def call(self, x, training=False, mask=None):\n",
    "        x = self.conv1(x)\n",
    "        \n",
    "        x = self.res1(x, training=training)\n",
    "        x = self.pool1(x)\n",
    "        x = self.res2(x, training=training)\n",
    "        x = self.pool2(x)\n",
    "        x = self.res3(x, training=training)\n",
    "        \n",
    "        x = self.flatten(x)\n",
    "        x = self.dense1(x)\n",
    "        return self.dense2(x)\n",
    "        "
   ]
  },
  {
   "cell_type": "markdown",
   "metadata": {},
   "source": [
    "## 학습, 테스트 루프 정의"
   ]
  },
  {
   "cell_type": "code",
   "execution_count": 12,
   "metadata": {},
   "outputs": [],
   "source": [
    "# Implement training loop\n",
    "@tf.function\n",
    "def train_step(model, images, labels, loss_object, optimizer, train_loss, train_accuracy):\n",
    "    with tf.GradientTape() as tape:\n",
    "        predictions = model(images, training=True)\n",
    "        loss = loss_object(labels, predictions)\n",
    "    gradients = tape.gradient(loss, model.trainable_variables)\n",
    "\n",
    "    optimizer.apply_gradients(zip(gradients, model.trainable_variables))\n",
    "    train_loss(loss)\n",
    "    train_accuracy(labels, predictions)\n",
    "\n",
    "# Implement algorithm test\n",
    "@tf.function\n",
    "def test_step(model, images, labels, loss_object, test_loss, test_accuracy):\n",
    "    predictions = model(images, training=False)\n",
    "\n",
    "    t_loss = loss_object(labels, predictions)\n",
    "    test_loss(t_loss)\n",
    "    test_accuracy(labels, predictions)"
   ]
  },
  {
   "cell_type": "markdown",
   "metadata": {},
   "source": [
    "## 데이터셋 준비\n"
   ]
  },
  {
   "cell_type": "code",
   "execution_count": 13,
   "metadata": {},
   "outputs": [],
   "source": [
    "mnist = tf.keras.datasets.mnist\n",
    "\n",
    "(x_train, y_train), (x_test, y_test) = mnist.load_data()\n",
    "x_train, x_test = x_train / 255.0, x_test / 255.0\n",
    "\n",
    "x_train = x_train[..., tf.newaxis].astype(np.float32)\n",
    "x_test = x_test[..., tf.newaxis].astype(np.float32)\n",
    "\n",
    "train_ds = tf.data.Dataset.from_tensor_slices((x_train, y_train)).shuffle(10000).batch(32)\n",
    "test_ds = tf.data.Dataset.from_tensor_slices((x_test, y_test)).batch(32)"
   ]
  },
  {
   "cell_type": "markdown",
   "metadata": {},
   "source": [
    "## 학습 환경 정의\n",
    "### 모델 생성, 손실함수, 최적화 알고리즘, 평가지표 정의"
   ]
  },
  {
   "cell_type": "code",
   "execution_count": 14,
   "metadata": {},
   "outputs": [],
   "source": [
    "# Create model\n",
    "model = ResNet()\n",
    "\n",
    "# Define loss and optimizer\n",
    "loss_object = tf.keras.losses.SparseCategoricalCrossentropy()\n",
    "optimizer = tf.keras.optimizers.Adam()\n",
    "\n",
    "# Define performance metrics\n",
    "train_loss = tf.keras.metrics.Mean(name='train_loss')\n",
    "train_accuracy = tf.keras.metrics.SparseCategoricalAccuracy(name='train_accuracy')\n",
    "\n",
    "test_loss = tf.keras.metrics.Mean(name='test_loss')\n",
    "test_accuracy = tf.keras.metrics.SparseCategoricalAccuracy(name='test_accuracy')"
   ]
  },
  {
   "cell_type": "markdown",
   "metadata": {},
   "source": [
    "## 학습 루프 동작"
   ]
  },
  {
   "cell_type": "code",
   "execution_count": 15,
   "metadata": {},
   "outputs": [
    {
     "name": "stdout",
     "output_type": "stream",
     "text": [
      "WARNING:tensorflow:Gradients do not exist for variables ['res_net_1/resnet_layer_1/residual_unit_1/batch_normalization_1/gamma:0', 'res_net_1/resnet_layer_1/residual_unit_1/batch_normalization_1/beta:0', 'res_net_1/resnet_layer_1/residual_unit_1/conv2d_2/kernel:0', 'res_net_1/resnet_layer_1/residual_unit_1/conv2d_2/bias:0', 'res_net_1/resnet_layer_1/residual_unit_2/batch_normalization_3/gamma:0', 'res_net_1/resnet_layer_1/residual_unit_2/batch_normalization_3/beta:0', 'res_net_1/resnet_layer_1/residual_unit_2/conv2d_5/kernel:0', 'res_net_1/resnet_layer_1/residual_unit_2/conv2d_5/bias:0', 'res_net_1/resnet_layer_2/residual_unit_3/batch_normalization_5/gamma:0', 'res_net_1/resnet_layer_2/residual_unit_3/batch_normalization_5/beta:0', 'res_net_1/resnet_layer_2/residual_unit_3/conv2d_7/kernel:0', 'res_net_1/resnet_layer_2/residual_unit_3/conv2d_7/bias:0', 'res_net_1/resnet_layer_2/residual_unit_4/batch_normalization_7/gamma:0', 'res_net_1/resnet_layer_2/residual_unit_4/batch_normalization_7/beta:0', 'res_net_1/resnet_layer_2/residual_unit_4/conv2d_10/kernel:0', 'res_net_1/resnet_layer_2/residual_unit_4/conv2d_10/bias:0', 'res_net_1/resnet_layer_3/residual_unit_5/batch_normalization_9/gamma:0', 'res_net_1/resnet_layer_3/residual_unit_5/batch_normalization_9/beta:0', 'res_net_1/resnet_layer_3/residual_unit_5/conv2d_12/kernel:0', 'res_net_1/resnet_layer_3/residual_unit_5/conv2d_12/bias:0', 'res_net_1/resnet_layer_3/residual_unit_6/batch_normalization_11/gamma:0', 'res_net_1/resnet_layer_3/residual_unit_6/batch_normalization_11/beta:0', 'res_net_1/resnet_layer_3/residual_unit_6/conv2d_15/kernel:0', 'res_net_1/resnet_layer_3/residual_unit_6/conv2d_15/bias:0'] when minimizing the loss. If you're using `model.compile()`, did you forget to provide a `loss`argument?\n",
      "WARNING:tensorflow:Gradients do not exist for variables ['res_net_1/resnet_layer_1/residual_unit_1/batch_normalization_1/gamma:0', 'res_net_1/resnet_layer_1/residual_unit_1/batch_normalization_1/beta:0', 'res_net_1/resnet_layer_1/residual_unit_1/conv2d_2/kernel:0', 'res_net_1/resnet_layer_1/residual_unit_1/conv2d_2/bias:0', 'res_net_1/resnet_layer_1/residual_unit_2/batch_normalization_3/gamma:0', 'res_net_1/resnet_layer_1/residual_unit_2/batch_normalization_3/beta:0', 'res_net_1/resnet_layer_1/residual_unit_2/conv2d_5/kernel:0', 'res_net_1/resnet_layer_1/residual_unit_2/conv2d_5/bias:0', 'res_net_1/resnet_layer_2/residual_unit_3/batch_normalization_5/gamma:0', 'res_net_1/resnet_layer_2/residual_unit_3/batch_normalization_5/beta:0', 'res_net_1/resnet_layer_2/residual_unit_3/conv2d_7/kernel:0', 'res_net_1/resnet_layer_2/residual_unit_3/conv2d_7/bias:0', 'res_net_1/resnet_layer_2/residual_unit_4/batch_normalization_7/gamma:0', 'res_net_1/resnet_layer_2/residual_unit_4/batch_normalization_7/beta:0', 'res_net_1/resnet_layer_2/residual_unit_4/conv2d_10/kernel:0', 'res_net_1/resnet_layer_2/residual_unit_4/conv2d_10/bias:0', 'res_net_1/resnet_layer_3/residual_unit_5/batch_normalization_9/gamma:0', 'res_net_1/resnet_layer_3/residual_unit_5/batch_normalization_9/beta:0', 'res_net_1/resnet_layer_3/residual_unit_5/conv2d_12/kernel:0', 'res_net_1/resnet_layer_3/residual_unit_5/conv2d_12/bias:0', 'res_net_1/resnet_layer_3/residual_unit_6/batch_normalization_11/gamma:0', 'res_net_1/resnet_layer_3/residual_unit_6/batch_normalization_11/beta:0', 'res_net_1/resnet_layer_3/residual_unit_6/conv2d_15/kernel:0', 'res_net_1/resnet_layer_3/residual_unit_6/conv2d_15/bias:0'] when minimizing the loss. If you're using `model.compile()`, did you forget to provide a `loss`argument?\n",
      "Epoch 1, Loss: 0.1340029239654541, Accuracy: 96.29166412353516, Test Loss: 0.08835574239492416, Test Accuracy: 97.5999984741211\n",
      "Epoch 2, Loss: 0.06322843581438065, Accuracy: 98.29833221435547, Test Loss: 0.05009864643216133, Test Accuracy: 98.40999603271484\n",
      "Epoch 3, Loss: 0.04956098273396492, Accuracy: 98.55500030517578, Test Loss: 0.06319563090801239, Test Accuracy: 98.23999786376953\n",
      "Epoch 4, Loss: 0.041056085377931595, Accuracy: 98.87833404541016, Test Loss: 0.06113175302743912, Test Accuracy: 98.48999786376953\n",
      "Epoch 5, Loss: 0.040335848927497864, Accuracy: 98.87166595458984, Test Loss: 0.03527067229151726, Test Accuracy: 99.04999542236328\n",
      "Epoch 6, Loss: 0.031074322760105133, Accuracy: 99.1816635131836, Test Loss: 0.04593290016055107, Test Accuracy: 98.83000183105469\n",
      "Epoch 7, Loss: 0.032843925058841705, Accuracy: 99.1383285522461, Test Loss: 0.04776240140199661, Test Accuracy: 98.87999725341797\n",
      "Epoch 8, Loss: 0.027491040527820587, Accuracy: 99.29500579833984, Test Loss: 0.043108269572257996, Test Accuracy: 98.94999694824219\n",
      "Epoch 9, Loss: 0.023816104978322983, Accuracy: 99.33833312988281, Test Loss: 0.04345002770423889, Test Accuracy: 99.04999542236328\n",
      "Epoch 10, Loss: 0.02673385478556156, Accuracy: 99.32167053222656, Test Loss: 0.04806940257549286, Test Accuracy: 98.79000091552734\n"
     ]
    }
   ],
   "source": [
    "for epoch in range(EPOCHS):\n",
    "    for images, labels in train_ds:\n",
    "        train_step(model, images, labels, loss_object, optimizer, train_loss, train_accuracy)\n",
    "\n",
    "    for test_images, test_labels in test_ds:\n",
    "        test_step(model, test_images, test_labels, loss_object, test_loss, test_accuracy)\n",
    "\n",
    "    template = 'Epoch {}, Loss: {}, Accuracy: {}, Test Loss: {}, Test Accuracy: {}'\n",
    "    print(template.format(epoch + 1,\n",
    "                          train_loss.result(),\n",
    "                          train_accuracy.result() * 100,\n",
    "                          test_loss.result(),\n",
    "                          test_accuracy.result() * 100))\n",
    "    train_loss.reset_states()\n",
    "    train_accuracy.reset_states()\n",
    "    test_loss.reset_states()\n",
    "    test_accuracy.reset_states()"
   ]
  },
  {
   "cell_type": "code",
   "execution_count": null,
   "metadata": {},
   "outputs": [],
   "source": []
  }
 ],
 "metadata": {
  "kernelspec": {
   "display_name": "Python 3",
   "language": "python",
   "name": "python3"
  },
  "language_info": {
   "codemirror_mode": {
    "name": "ipython",
    "version": 3
   },
   "file_extension": ".py",
   "mimetype": "text/x-python",
   "name": "python",
   "nbconvert_exporter": "python",
   "pygments_lexer": "ipython3",
   "version": "3.8.8"
  }
 },
 "nbformat": 4,
 "nbformat_minor": 2
}

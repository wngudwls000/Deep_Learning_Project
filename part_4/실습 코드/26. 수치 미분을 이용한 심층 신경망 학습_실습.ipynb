{
 "cells": [
  {
   "cell_type": "markdown",
   "metadata": {},
   "source": [
    "## 수치 미분을 이용한 심층 신경망 학습"
   ]
  },
  {
   "cell_type": "code",
   "execution_count": 2,
   "metadata": {},
   "outputs": [],
   "source": [
    "import time\n",
    "import os\n",
    "import numpy as np\n",
    "import matplotlib.pyplot as plt\n",
    "import tensorflow as tf\n",
    "\n",
    "os.environ['CUDA_VISIBLE_DEVICES'] = '0'"
   ]
  },
  {
   "cell_type": "markdown",
   "metadata": {},
   "source": [
    "## 유틸리티 함수"
   ]
  },
  {
   "cell_type": "code",
   "execution_count": 3,
   "metadata": {},
   "outputs": [],
   "source": [
    "epsilon = 0.0001\n",
    "\n",
    "def _t(x):\n",
    "    return np.transpose(x)\n",
    "\n",
    "def _m(A, B):\n",
    "    return np.matmul(A, B)\n",
    "\n",
    "def sigmoid(x):\n",
    "    return 1 / (1 + np.exp(-x))\n",
    "\n",
    "def mean_squared_error(h, y):\n",
    "    return 1 / 2 * np.mean(np.square(h - y))"
   ]
  },
  {
   "cell_type": "markdown",
   "metadata": {},
   "source": [
    "## 뉴런 구현"
   ]
  },
  {
   "cell_type": "code",
   "execution_count": 5,
   "metadata": {},
   "outputs": [],
   "source": [
    "class Neuron:\n",
    "    def __init__(self, W, b, a):\n",
    "        # Model Parameter\n",
    "        self.W = W\n",
    "        self.a = a\n",
    "        self.b = b\n",
    "        \n",
    "        # Gradients\n",
    "        self.dW = np.zeros_like(self.W)\n",
    "        self.db = np.zeros_like(self.b)\n",
    "\n",
    "    def __call__(self, x):\n",
    "        return self.a(_m(_t(self.W),x) + self.b) # activation((W^T)x + b)"
   ]
  },
  {
   "cell_type": "markdown",
   "metadata": {},
   "source": [
    "## 심층신경망 구현"
   ]
  },
  {
   "cell_type": "code",
   "execution_count": 14,
   "metadata": {},
   "outputs": [],
   "source": [
    "class DNN:\n",
    "    def __init__(self, hidden_depth, num_neuron, num_input, num_output, activation=sigmoid):\n",
    "        def init_var(i, o):\n",
    "            return np.random.normal(0.0, 0.01, (i, o)), np.zeros((o,))\n",
    "\n",
    "        self.sequence = list()\n",
    "        # First hidden layer\n",
    "        W, b = init_var(num_input, num_neuron)\n",
    "        self.sequence.append(Neuron(W, b, activation))\n",
    "        \n",
    "        # Hidden layers\n",
    "        for _ in range(hidden_depth - 1):\n",
    "            W, b = init_var(num_neuron, num_neuron)\n",
    "            self.sequence.append(Neuron(W, b, activation))\n",
    "\n",
    "        # Output layer\n",
    "        W, b = init_var(num_neuron, num_output)\n",
    "        self.sequence.append(Neuron(W, b, activation))\n",
    "\n",
    "    def __call__(self, x):\n",
    "        for layer in self.sequence:\n",
    "            x = layer(x)\n",
    "        return x\n",
    "\n",
    "    def calc_gradient(self, x, y, loss_func):\n",
    "        def get_new_sequence(layer_index, new_neuron):\n",
    "            new_sequence = list()\n",
    "            for i, layer in enumerate(self.sequence):\n",
    "                if i == layer_index:\n",
    "                    new_sequence.append(new_neuron)\n",
    "                else:\n",
    "                    new_sequence.append(layer)\n",
    "            return new_sequence\n",
    "        \n",
    "        def evel_sequence(x, sequence):\n",
    "            for layer in sequence:\n",
    "                x = layer(x)\n",
    "            return x\n",
    "        \n",
    "        loss = loss_func(self(x), y)\n",
    "        \n",
    "        for layer_id, layer in enumerate(self.sequence): # iterate layer\n",
    "            for w_i, w in enumerate(layer.W): # iterate W (row)\n",
    "                for w_j, ww in enumerate(w): # iterate W (col)\n",
    "                    W = np.copy(layer.W)\n",
    "                    W[w_i][w_j] = ww + epsilon\n",
    "                    \n",
    "                    new_neuron =  Neuron(W, layer.b, layer.a)\n",
    "                    new_seq = get_new_sequence(layer_id, new_neuron)\n",
    "                    h = evel_sequence(x, new_seq)\n",
    "                    \n",
    "                    num_grad = (loss_func(h, y) - loss) / epsilon # (f(x + eps) - f(x)) / epsilon\n",
    "                    layer.dW[w_i][w_j] = num_grad\n",
    "                    \n",
    "                for b_i, bb in enumerate(layer.b): # iterate b\n",
    "                    b = np.copy(layer.b)\n",
    "                    b[b_i] = bb + epsilon\n",
    "                    \n",
    "                    new_neuron =  Neuron(layer.W, b, layer.a)\n",
    "                    new_seq = get_new_sequence(layer_id, new_neuron)\n",
    "                    h = evel_sequence(x, new_seq)\n",
    "                    \n",
    "                    num_grad = (loss_func(h, y) - loss) / epsilon # (f(x + eps) - f(x)) / epsilon\n",
    "                    layer.db[b_i] = num_grad\n",
    "        return loss"
   ]
  },
  {
   "cell_type": "markdown",
   "metadata": {},
   "source": [
    "## 경사하강 학습법"
   ]
  },
  {
   "cell_type": "code",
   "execution_count": 15,
   "metadata": {},
   "outputs": [],
   "source": [
    "def gradient_descent(network, x, y, loss_obj, alpha=0.01):\n",
    "    loss = network.calc_gradient(x, y, loss_obj)\n",
    "    for layer in network.sequence:\n",
    "        layer.W += -alpha * layer.dW\n",
    "        layer.b += -alpha * layer.db\n",
    "    return loss"
   ]
  },
  {
   "cell_type": "markdown",
   "metadata": {},
   "source": [
    "## 동작 테스트"
   ]
  },
  {
   "cell_type": "code",
   "execution_count": 16,
   "metadata": {},
   "outputs": [
    {
     "name": "stdout",
     "output_type": "stream",
     "text": [
      "Epoch 0: Test loss 0.3664178220839986\n",
      "Epoch 1: Test loss 0.36436275113433253\n",
      "Epoch 2: Test loss 0.3623197940618879\n",
      "Epoch 3: Test loss 0.3602892259066692\n",
      "Epoch 4: Test loss 0.35827131057299966\n",
      "Epoch 5: Test loss 0.35626630076048116\n",
      "Epoch 6: Test loss 0.3542744379166652\n",
      "Epoch 7: Test loss 0.3522959522107293\n",
      "Epoch 8: Test loss 0.3503310625282303\n",
      "Epoch 9: Test loss 0.3483799764853359\n",
      "Epoch 10: Test loss 0.3464428904626653\n",
      "Epoch 11: Test loss 0.34451998965770636\n",
      "Epoch 12: Test loss 0.34261144815505234\n",
      "Epoch 13: Test loss 0.3407174290135133\n",
      "Epoch 14: Test loss 0.3388380843697079\n",
      "Epoch 15: Test loss 0.33697355555689323\n",
      "Epoch 16: Test loss 0.3351239732383792\n",
      "Epoch 17: Test loss 0.3332894575545421\n",
      "Epoch 18: Test loss 0.3314701182825104\n",
      "Epoch 19: Test loss 0.32966605500808427\n",
      "Epoch 20: Test loss 0.3278773573081994\n",
      "Epoch 21: Test loss 0.32610410494376557\n",
      "Epoch 22: Test loss 0.3243463680616629\n",
      "Epoch 23: Test loss 0.3226042074050963\n",
      "Epoch 24: Test loss 0.320877674531523\n",
      "Epoch 25: Test loss 0.3191668120371958\n",
      "Epoch 26: Test loss 0.3174716537875839\n",
      "Epoch 27: Test loss 0.31579222515295646\n",
      "Epoch 28: Test loss 0.3141285432480947\n",
      "Epoch 29: Test loss 0.3124806171756963\n",
      "Epoch 30: Test loss 0.31084844827264085\n",
      "Epoch 31: Test loss 0.3092320303584062\n",
      "Epoch 32: Test loss 0.3076313499849223\n",
      "Epoch 33: Test loss 0.30604638668729706\n",
      "Epoch 34: Test loss 0.3044771132350598\n",
      "Epoch 35: Test loss 0.30292349588279405\n",
      "Epoch 36: Test loss 0.3013854946201223\n",
      "Epoch 37: Test loss 0.2998630634205921\n",
      "Epoch 38: Test loss 0.29835615048833786\n",
      "Epoch 39: Test loss 0.2968646985030294\n",
      "Epoch 40: Test loss 0.29538864486186667\n",
      "Epoch 41: Test loss 0.29392792191868905\n",
      "Epoch 42: Test loss 0.29248245721992416\n",
      "Epoch 43: Test loss 0.2910521737365916\n",
      "Epoch 44: Test loss 0.2896369900927644\n",
      "Epoch 45: Test loss 0.28823682078954954\n",
      "Epoch 46: Test loss 0.28685157642487585\n",
      "Epoch 47: Test loss 0.28548116390851946\n",
      "Epoch 48: Test loss 0.2841254866725173\n",
      "Epoch 49: Test loss 0.2827844448764271\n",
      "Epoch 50: Test loss 0.2814579356078676\n",
      "Epoch 51: Test loss 0.28014585307747275\n",
      "Epoch 52: Test loss 0.2788480888088618\n",
      "Epoch 53: Test loss 0.27756453182317803\n",
      "Epoch 54: Test loss 0.27629506881832017\n",
      "Epoch 55: Test loss 0.2750395843426288\n",
      "Epoch 56: Test loss 0.2737979609631073\n",
      "Epoch 57: Test loss 0.27257007942853173\n",
      "Epoch 58: Test loss 0.27135581882659376\n",
      "Epoch 59: Test loss 0.27015505673609436\n",
      "Epoch 60: Test loss 0.26896766937346245\n",
      "Epoch 61: Test loss 0.26779353173413123\n",
      "Epoch 62: Test loss 0.2666325177285545\n",
      "Epoch 63: Test loss 0.265484500312918\n",
      "Epoch 64: Test loss 0.2643493516149266\n",
      "Epoch 65: Test loss 0.26322694305423994\n",
      "Epoch 66: Test loss 0.2621171454582441\n",
      "Epoch 67: Test loss 0.2610198291726073\n",
      "Epoch 68: Test loss 0.25993486416735856\n",
      "Epoch 69: Test loss 0.25886212013811466\n",
      "Epoch 70: Test loss 0.257801466602576\n",
      "Epoch 71: Test loss 0.25675277299290894\n",
      "Epoch 72: Test loss 0.2557159087435033\n",
      "Epoch 73: Test loss 0.25469074337441794\n",
      "Epoch 74: Test loss 0.2536771465709967\n",
      "Epoch 75: Test loss 0.2526749882591152\n",
      "Epoch 76: Test loss 0.25168413867672573\n",
      "Epoch 77: Test loss 0.25070446844158834\n",
      "Epoch 78: Test loss 0.24973584861528558\n",
      "Epoch 79: Test loss 0.24877815076367385\n",
      "Epoch 80: Test loss 0.24783124701396506\n",
      "Epoch 81: Test loss 0.24689501010842518\n",
      "Epoch 82: Test loss 0.24596931345488413\n",
      "Epoch 83: Test loss 0.24505403117413888\n",
      "Epoch 84: Test loss 0.2441490381443659\n",
      "Epoch 85: Test loss 0.24325421004273357\n",
      "Epoch 86: Test loss 0.2423694233841291\n",
      "Epoch 87: Test loss 0.24149455555731986\n",
      "Epoch 88: Test loss 0.24062948485852576\n",
      "Epoch 89: Test loss 0.2397740905224973\n",
      "Epoch 90: Test loss 0.23892825275134522\n",
      "Epoch 91: Test loss 0.23809185274098407\n",
      "Epoch 92: Test loss 0.23726477270554674\n",
      "Epoch 93: Test loss 0.2364468958996367\n",
      "Epoch 94: Test loss 0.23563810663859838\n",
      "Epoch 95: Test loss 0.23483829031698947\n",
      "Epoch 96: Test loss 0.23404733342514183\n",
      "Epoch 97: Test loss 0.23326512356407572\n",
      "Epoch 98: Test loss 0.2324915494587115\n",
      "Epoch 99: Test loss 0.23172650096959477\n",
      "58.98654103279114 seconds elapsed.\n"
     ]
    }
   ],
   "source": [
    "x = np.random.normal(0.0, 1.0, (10,))\n",
    "y = np.random.normal(0.0, 1.0, (2,))\n",
    "\n",
    "dnn = DNN(hidden_depth=5, num_neuron=32, num_input=10, num_output=2, activation=sigmoid)\n",
    "\n",
    "t = time.time()\n",
    "for epoch in range(100):\n",
    "    loss = gradient_descent(dnn, x, y, mean_squared_error, 0.01)\n",
    "    print('Epoch {}: Test loss {}'.format(epoch, loss))\n",
    "print('{} seconds elapsed.'.format(time.time() - t))"
   ]
  }
 ],
 "metadata": {
  "kernelspec": {
   "display_name": "Python 3",
   "language": "python",
   "name": "python3"
  },
  "language_info": {
   "codemirror_mode": {
    "name": "ipython",
    "version": 3
   },
   "file_extension": ".py",
   "mimetype": "text/x-python",
   "name": "python",
   "nbconvert_exporter": "python",
   "pygments_lexer": "ipython3",
   "version": "3.8.8"
  }
 },
 "nbformat": 4,
 "nbformat_minor": 2
}

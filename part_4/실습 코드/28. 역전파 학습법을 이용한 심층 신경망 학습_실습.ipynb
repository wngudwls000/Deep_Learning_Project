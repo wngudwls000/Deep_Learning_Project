{
 "cells": [
  {
   "cell_type": "markdown",
   "metadata": {},
   "source": [
    "## 수치 미분을 이용한 심층 신경망 학습"
   ]
  },
  {
   "cell_type": "code",
   "execution_count": 3,
   "metadata": {},
   "outputs": [],
   "source": [
    "import time\n",
    "import os\n",
    "import numpy as np\n",
    "import matplotlib.pyplot as plt\n",
    "import tensorflow as tf\n",
    "\n",
    "os.environ['CUDA_VISIBLE_DEVICES'] = '0'"
   ]
  },
  {
   "cell_type": "markdown",
   "metadata": {},
   "source": [
    "## 유틸리티 함수"
   ]
  },
  {
   "cell_type": "code",
   "execution_count": 4,
   "metadata": {},
   "outputs": [],
   "source": [
    "def _t(x):\n",
    "    return np.transpose(x)\n",
    "\n",
    "def _m(A, B):\n",
    "    return np.matmul(A, B)"
   ]
  },
  {
   "cell_type": "markdown",
   "metadata": {},
   "source": [
    "## Sigmoid 구현"
   ]
  },
  {
   "cell_type": "code",
   "execution_count": 5,
   "metadata": {},
   "outputs": [],
   "source": [
    "class Sigmoid:\n",
    "    def __init__(self):\n",
    "        self.last_o = 1\n",
    "\n",
    "    def __call__(self, x):\n",
    "        self.last_o = 1 / (1 + np.exp(-x))\n",
    "        return self.last_o\n",
    "\n",
    "    def grad(self): # sigmoid(x)(1 - sigmoid(x))\n",
    "        return self.last_o * (1 - self.last_o)"
   ]
  },
  {
   "cell_type": "markdown",
   "metadata": {},
   "source": [
    "## Mean Squared Error 구현"
   ]
  },
  {
   "cell_type": "code",
   "execution_count": 6,
   "metadata": {},
   "outputs": [],
   "source": [
    "class MeanSquaredError:\n",
    "    def __init__(self):\n",
    "        # gradient\n",
    "        self.dh = 1\n",
    "        self.last_diff = 1\n",
    "        \n",
    "    def __call__(self, h, y): # 1/2 * mean((h - y)^2)\n",
    "        self.last_diff = h - y\n",
    "        return 1 / 2 * np.mean(np.square(h - y))\n",
    "\n",
    "    def grad(self): # h - y\n",
    "        return self.last_diff"
   ]
  },
  {
   "cell_type": "markdown",
   "metadata": {},
   "source": [
    "## 뉴런 구현"
   ]
  },
  {
   "cell_type": "code",
   "execution_count": 8,
   "metadata": {},
   "outputs": [],
   "source": [
    "class Neuron:\n",
    "    def __init__(self, W, b, a_obj):\n",
    "        # Model parameters\n",
    "        self.W = W\n",
    "        self.b = b\n",
    "        self.a = a_obj()\n",
    "        \n",
    "        # gradient\n",
    "        self.dW = np.zeros_like(self.W)\n",
    "        self.db = np.zeros_like(self.b)\n",
    "        self.dh = np.zeros_like(_t(self.W))\n",
    "\n",
    "        self.last_x = np.zeros(self.W.shape[0])\n",
    "        self.last_h = np.zeros(self.W.shape[1])\n",
    "        \n",
    "    def __call__(self, x):\n",
    "        self.last_x = x\n",
    "        self.last_h = _m(_t(self.W), x) + self.b\n",
    "        return self.a(self.last_h)\n",
    "\n",
    "    def grad(self): # dy/dh = W\n",
    "        return self.W * self.a.grad()\n",
    "\n",
    "    def grad_W(self, dh):\n",
    "        grad = np.ones_like(self.W)\n",
    "        grad_a = self.a.grad()\n",
    "        for j in range(grad.shape[1]): # dy/dw = x\n",
    "            grad[:, j] = dh[j] * grad_a[j] * self.last_x\n",
    "        return grad\n",
    "\n",
    "    def grad_b(self, dh): # dy/db = 1\n",
    "        return dh * self.a.grad()"
   ]
  },
  {
   "cell_type": "markdown",
   "metadata": {},
   "source": [
    "## 심층신경망 구현"
   ]
  },
  {
   "cell_type": "code",
   "execution_count": 9,
   "metadata": {},
   "outputs": [],
   "source": [
    "class DNN:\n",
    "    def __init__(self, hidden_depth, num_neuron, input, output, activation=Sigmoid):\n",
    "        def init_var(i, o):\n",
    "            return np.random.normal(0.0, 0.01, (i, o)), np.zeros((o,))\n",
    "\n",
    "        self.sequence = list()\n",
    "        # First hidden layer\n",
    "        W, b = init_var(input, num_neuron)\n",
    "        self.sequence.append(Neuron(W, b, activation))\n",
    "\n",
    "        # Hidden Layers\n",
    "        for index in range(hidden_depth):\n",
    "            W, b = init_var(num_neuron, num_neuron)\n",
    "            self.sequence.append(Neuron(W, b, activation))\n",
    "\n",
    "        # Output Layer\n",
    "        W, b = init_var(num_neuron, output)\n",
    "        self.sequence.append(Neuron(W, b, activation))\n",
    "\n",
    "    def __call__(self, x):\n",
    "        for layer in self.sequence:\n",
    "            x = layer(x)\n",
    "        return x\n",
    "\n",
    "    def calc_gradient(self, loss_obj):\n",
    "        loss_obj.dh = loss_obj.grad()\n",
    "        self.sequence.append(loss_obj)\n",
    "        \n",
    "        # back-prop loop\n",
    "        for i in range(len(self.sequence) - 1, 0 , -1):\n",
    "            l1 = self.sequence[i]\n",
    "            l0 = self.sequence[i - 1]\n",
    "            \n",
    "            l0.dh = _m(l0.grad(), l1.dh)\n",
    "            l0.dW = l0.grad_W(l1.dh)\n",
    "            l0.db = l0.grad_b(l1.dh)\n",
    "            \n",
    "        self.sequence.remove(loss_obj)"
   ]
  },
  {
   "cell_type": "markdown",
   "metadata": {},
   "source": [
    "## 경사하강 학습법"
   ]
  },
  {
   "cell_type": "code",
   "execution_count": 10,
   "metadata": {},
   "outputs": [],
   "source": [
    "def gradient_descent(network, x, y, loss_obj, alpha=0.01):\n",
    "    loss = loss_obj(network(x), y)  # Forward inference\n",
    "    network.calc_gradient(loss_obj)  # Back-propagation\n",
    "    for layer in network.sequence:\n",
    "        layer.W += -alpha * layer.dW\n",
    "        layer.b += -alpha * layer.db\n",
    "    return loss"
   ]
  },
  {
   "cell_type": "markdown",
   "metadata": {},
   "source": [
    "## 동작 테스트"
   ]
  },
  {
   "cell_type": "code",
   "execution_count": 11,
   "metadata": {},
   "outputs": [
    {
     "name": "stdout",
     "output_type": "stream",
     "text": [
      "Epoch 0: Test loss 0.0643764688652084\n",
      "Epoch 1: Test loss 0.06366076443941879\n",
      "Epoch 2: Test loss 0.06295303363368995\n",
      "Epoch 3: Test loss 0.062253229242350466\n",
      "Epoch 4: Test loss 0.061561302491578915\n",
      "Epoch 5: Test loss 0.06087720311604378\n",
      "Epoch 6: Test loss 0.06020087943433011\n",
      "Epoch 7: Test loss 0.05953227842309415\n",
      "Epoch 8: Test loss 0.05887134578988988\n",
      "Epoch 9: Test loss 0.058218026044618953\n",
      "Epoch 10: Test loss 0.057572262569559225\n",
      "Epoch 11: Test loss 0.05693399768793289\n",
      "Epoch 12: Test loss 0.05630317273097906\n",
      "Epoch 13: Test loss 0.055679728103501726\n",
      "Epoch 14: Test loss 0.05506360334786643\n",
      "Epoch 15: Test loss 0.05445473720642554\n",
      "Epoch 16: Test loss 0.053853067682353706\n",
      "Epoch 17: Test loss 0.053258532098881026\n",
      "Epoch 18: Test loss 0.052671067156913776\n",
      "Epoch 19: Test loss 0.05209060899103654\n",
      "Epoch 20: Test loss 0.05151709322389291\n",
      "Epoch 21: Test loss 0.05095045501894504\n",
      "Epoch 22: Test loss 0.05039062913161496\n",
      "Epoch 23: Test loss 0.049837549958814\n",
      "Epoch 24: Test loss 0.04929115158686839\n",
      "Epoch 25: Test loss 0.04875136783785232\n",
      "Epoch 26: Test loss 0.04821813231434155\n",
      "Epoch 27: Test loss 0.047691378442602655\n",
      "Epoch 28: Test loss 0.04717103951423557\n",
      "Epoch 29: Test loss 0.046657048726287786\n",
      "Epoch 30: Test loss 0.04614933921986132\n",
      "Epoch 31: Test loss 0.04564784411723427\n",
      "Epoch 32: Test loss 0.04515249655752063\n",
      "Epoch 33: Test loss 0.04466322973089248\n",
      "Epoch 34: Test loss 0.04417997691139096\n",
      "Epoch 35: Test loss 0.043702671488352156\n",
      "Epoch 36: Test loss 0.04323124699647575\n",
      "Epoch 37: Test loss 0.042765637144564446\n",
      "Epoch 38: Test loss 0.0423057758429633\n",
      "Epoch 39: Test loss 0.04185159722972823\n",
      "Epoch 40: Test loss 0.041403035695553425\n",
      "Epoch 41: Test loss 0.04096002590748837\n",
      "Epoch 42: Test loss 0.040522502831474225\n",
      "Epoch 43: Test loss 0.040090401753730714\n",
      "Epoch 44: Test loss 0.03966365830102431\n",
      "Epoch 45: Test loss 0.03924220845984796\n",
      "Epoch 46: Test loss 0.038825988594543816\n",
      "Epoch 47: Test loss 0.03841493546439927\n",
      "Epoch 48: Test loss 0.0380089862397468\n",
      "Epoch 49: Test loss 0.03760807851709822\n",
      "Epoch 50: Test loss 0.03721215033334323\n",
      "Epoch 51: Test loss 0.03682114017904229\n",
      "Epoch 52: Test loss 0.036434987010843134\n",
      "Epoch 53: Test loss 0.03605363026305033\n",
      "Epoch 54: Test loss 0.03567700985837631\n",
      "Epoch 55: Test loss 0.03530506621790251\n",
      "Epoch 56: Test loss 0.03493774027027838\n",
      "Epoch 57: Test loss 0.03457497346018579\n",
      "Epoch 58: Test loss 0.034216707756095435\n",
      "Epoch 59: Test loss 0.03386288565734227\n",
      "Epoch 60: Test loss 0.033513450200545136\n",
      "Epoch 61: Test loss 0.033168344965396446\n",
      "Epoch 62: Test loss 0.032827514079846715\n",
      "Epoch 63: Test loss 0.032490902224707664\n",
      "Epoch 64: Test loss 0.03215845463769826\n",
      "Epoch 65: Test loss 0.0318301171169563\n",
      "Epoch 66: Test loss 0.03150583602403819\n",
      "Epoch 67: Test loss 0.03118555828642893\n",
      "Epoch 68: Test loss 0.030869231399583558\n",
      "Epoch 69: Test loss 0.030556803428520823\n",
      "Epoch 70: Test loss 0.030248223008989363\n",
      "Epoch 71: Test loss 0.02994343934822581\n",
      "Epoch 72: Test loss 0.029642402225324223\n",
      "Epoch 73: Test loss 0.02934506199123483\n",
      "Epoch 74: Test loss 0.02905136956841036\n",
      "Epoch 75: Test loss 0.02876127645011714\n",
      "Epoch 76: Test loss 0.028474734699427795\n",
      "Epoch 77: Test loss 0.02819169694791174\n",
      "Epoch 78: Test loss 0.02791211639403939\n",
      "Epoch 79: Test loss 0.027635946801314867\n",
      "Epoch 80: Test loss 0.027363142496152376\n",
      "Epoch 81: Test loss 0.027093658365509875\n",
      "Epoch 82: Test loss 0.02682744985429435\n",
      "Epoch 83: Test loss 0.026564472962551135\n",
      "Epoch 84: Test loss 0.02630468424245059\n",
      "Epoch 85: Test loss 0.026048040795084076\n",
      "Epoch 86: Test loss 0.025794500267081008\n",
      "Epoch 87: Test loss 0.02554402084705834\n",
      "Epoch 88: Test loss 0.0252965612619135\n",
      "Epoch 89: Test loss 0.025052080772971105\n",
      "Epoch 90: Test loss 0.02481053917199348\n",
      "Epoch 91: Test loss 0.024571896777064783\n",
      "Epoch 92: Test loss 0.024336114428357956\n",
      "Epoch 93: Test loss 0.024103153483793296\n",
      "Epoch 94: Test loss 0.02387297581459736\n",
      "Epoch 95: Test loss 0.023645543800769983\n",
      "Epoch 96: Test loss 0.02342082032646787\n",
      "Epoch 97: Test loss 0.023198768775311414\n",
      "Epoch 98: Test loss 0.02297935302562269\n",
      "Epoch 99: Test loss 0.02276253744560093\n",
      "0.09339570999145508 seconds elapsed.\n"
     ]
    }
   ],
   "source": [
    "x = np.random.normal(0.0, 1.0, (10,))\n",
    "y = np.random.normal(0.0, 1.0, (2,))\n",
    "\n",
    "t = time.time()\n",
    "dnn = DNN(hidden_depth=5, num_neuron=32, input=10, output=2, activation=Sigmoid)\n",
    "loss_obj = MeanSquaredError()\n",
    "for epoch in range(100):\n",
    "    loss = gradient_descent(dnn, x, y, loss_obj, alpha=0.01)\n",
    "    print('Epoch {}: Test loss {}'.format(epoch, loss))\n",
    "print('{} seconds elapsed.'.format(time.time() - t))"
   ]
  },
  {
   "cell_type": "code",
   "execution_count": null,
   "metadata": {},
   "outputs": [],
   "source": []
  }
 ],
 "metadata": {
  "kernelspec": {
   "display_name": "Python 3",
   "language": "python",
   "name": "python3"
  },
  "language_info": {
   "codemirror_mode": {
    "name": "ipython",
    "version": 3
   },
   "file_extension": ".py",
   "mimetype": "text/x-python",
   "name": "python",
   "nbconvert_exporter": "python",
   "pygments_lexer": "ipython3",
   "version": "3.8.8"
  }
 },
 "nbformat": 4,
 "nbformat_minor": 2
}

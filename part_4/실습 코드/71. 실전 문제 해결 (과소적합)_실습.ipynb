{
 "cells": [
  {
   "cell_type": "markdown",
   "metadata": {},
   "source": [
    "# 실전 문제 해결 (과소적합)"
   ]
  },
  {
   "cell_type": "code",
   "execution_count": 1,
   "metadata": {},
   "outputs": [],
   "source": [
    "import time\n",
    "import os\n",
    "import numpy as np\n",
    "import matplotlib.pyplot as plt\n",
    "import tensorflow as tf\n",
    "\n",
    "os.environ['CUDA_VISIBLE_DEVICES'] = '0'"
   ]
  },
  {
   "cell_type": "markdown",
   "metadata": {},
   "source": [
    "## 하이퍼 파라미터"
   ]
  },
  {
   "cell_type": "code",
   "execution_count": 2,
   "metadata": {},
   "outputs": [],
   "source": [
    "EPOCHS = 100"
   ]
  },
  {
   "cell_type": "markdown",
   "metadata": {},
   "source": [
    "## 모델 정의"
   ]
  },
  {
   "cell_type": "code",
   "execution_count": 3,
   "metadata": {},
   "outputs": [],
   "source": [
    "class MyModel(tf.keras.Model):\n",
    "    def __init__(self):\n",
    "        super(MyModel, self).__init__()\n",
    "        self.flatten = tf.keras.layers.Flatten()\n",
    "        self.dense1 = tf.keras.layers.Dense(32, use_bias=False)\n",
    "        self.batch1 = tf.keras.layers.BatchNormalization()\n",
    "        \n",
    "        self.batch2 = tf.keras.layers.BatchNormalization()\n",
    "        self.dense2 = tf.keras.layers.Dense(32, use_bias=False)\n",
    "        \n",
    "        self.batch3 = tf.keras.layers.BatchNormalization()\n",
    "        self.dense3 = tf.keras.layers.Dense(64, use_bias=False)\n",
    "\n",
    "        self.batch4 = tf.keras.layers.BatchNormalization()\n",
    "        self.dense4 = tf.keras.layers.Dense(128, use_bias=False)\n",
    "        \n",
    "        self.dense5 = tf.keras.layers.Dense(10, activation='softmax')\n",
    "\n",
    "    def call(self, x, training=False, mask=None):\n",
    "        x = self.flatten(x)\n",
    "        x = self.dense1(x)\n",
    "        x = self.batch1(x, training)\n",
    "        x = tf.nn.relu(x)\n",
    "        \n",
    "        h = self.batch2(x, training)\n",
    "        h = tf.nn.relu(h)\n",
    "        h = self.dense2(h)\n",
    "        x = tf.concat([x, h], axis=-1)\n",
    "        \n",
    "        h = self.batch3(x, training)\n",
    "        h = tf.nn.relu(h)\n",
    "        h = self.dense3(h)\n",
    "        x = tf.concat([x, h], axis=-1)\n",
    "        \n",
    "        h = self.batch4(x, training)\n",
    "        h = tf.nn.relu(h)\n",
    "        h = self.dense4(h)\n",
    "        x = tf.concat([x, h], axis=-1)\n",
    "        \n",
    "        return self.dense5(x)"
   ]
  },
  {
   "cell_type": "markdown",
   "metadata": {},
   "source": [
    "## 데이터셋 준비\n"
   ]
  },
  {
   "cell_type": "code",
   "execution_count": 4,
   "metadata": {},
   "outputs": [],
   "source": [
    "fashion_mnist = tf.keras.datasets.fashion_mnist #28x28 -> 10 class\n",
    "\n",
    "(x_train, y_train), (x_test, y_test) = fashion_mnist.load_data()\n",
    "x_train, x_test = x_train / 255.0, x_test / 255.0\n",
    "\n",
    "x_train = x_train.astype(np.float32)\n",
    "x_test = x_test.astype(np.float32)\n",
    "\n",
    "train_ds = tf.data.Dataset.from_tensor_slices((x_train, y_train)).shuffle(10000).batch(32).prefetch(2048)\n",
    "test_ds = tf.data.Dataset.from_tensor_slices((x_test, y_test)).batch(32).prefetch(2048)"
   ]
  },
  {
   "cell_type": "markdown",
   "metadata": {},
   "source": [
    "## Keras API 모델 학습"
   ]
  },
  {
   "cell_type": "code",
   "execution_count": null,
   "metadata": {
    "scrolled": false
   },
   "outputs": [
    {
     "name": "stdout",
     "output_type": "stream",
     "text": [
      "Epoch 1/100\n",
      "1875/1875 [==============================] - 23s 11ms/step - loss: 0.5129 - accuracy: 0.8149 - val_loss: 0.4549 - val_accuracy: 0.8316\n",
      "Epoch 2/100\n",
      "1875/1875 [==============================] - 40s 21ms/step - loss: 0.3979 - accuracy: 0.8556 - val_loss: 0.4144 - val_accuracy: 0.8535\n",
      "Epoch 3/100\n",
      "1875/1875 [==============================] - 42s 22ms/step - loss: 0.3658 - accuracy: 0.8664 - val_loss: 0.3847 - val_accuracy: 0.8616\n",
      "Epoch 4/100\n",
      "1875/1875 [==============================] - 41s 22ms/step - loss: 0.3434 - accuracy: 0.8741 - val_loss: 0.4042 - val_accuracy: 0.8542\n",
      "Epoch 5/100\n",
      "1875/1875 [==============================] - 39s 21ms/step - loss: 0.3326 - accuracy: 0.8772 - val_loss: 0.4337 - val_accuracy: 0.8490\n",
      "Epoch 6/100\n",
      "1875/1875 [==============================] - 40s 21ms/step - loss: 0.3197 - accuracy: 0.8830 - val_loss: 0.3764 - val_accuracy: 0.8640\n",
      "Epoch 7/100\n",
      "1875/1875 [==============================] - 41s 22ms/step - loss: 0.3078 - accuracy: 0.8871 - val_loss: 0.3599 - val_accuracy: 0.8708\n",
      "Epoch 8/100\n",
      "1875/1875 [==============================] - 40s 21ms/step - loss: 0.2996 - accuracy: 0.8903 - val_loss: 0.4022 - val_accuracy: 0.8601\n",
      "Epoch 9/100\n",
      "1875/1875 [==============================] - 44s 23ms/step - loss: 0.2925 - accuracy: 0.8908 - val_loss: 0.3411 - val_accuracy: 0.8767\n",
      "Epoch 10/100\n",
      "1875/1875 [==============================] - 35s 18ms/step - loss: 0.2858 - accuracy: 0.8930 - val_loss: 0.3915 - val_accuracy: 0.8561\n",
      "Epoch 11/100\n",
      "1875/1875 [==============================] - 18s 10ms/step - loss: 0.2806 - accuracy: 0.8950 - val_loss: 0.3505 - val_accuracy: 0.8758\n",
      "Epoch 12/100\n",
      "1875/1875 [==============================] - 35s 19ms/step - loss: 0.2735 - accuracy: 0.8988 - val_loss: 0.3588 - val_accuracy: 0.8788\n",
      "Epoch 13/100\n",
      "1875/1875 [==============================] - 40s 21ms/step - loss: 0.2701 - accuracy: 0.8985 - val_loss: 0.3438 - val_accuracy: 0.8768\n",
      "Epoch 14/100\n",
      "1875/1875 [==============================] - 41s 22ms/step - loss: 0.2631 - accuracy: 0.9020 - val_loss: 0.3590 - val_accuracy: 0.8745\n",
      "Epoch 15/100\n",
      "1875/1875 [==============================] - 42s 22ms/step - loss: 0.2619 - accuracy: 0.9024 - val_loss: 0.3757 - val_accuracy: 0.8697\n",
      "Epoch 16/100\n",
      "1875/1875 [==============================] - 40s 21ms/step - loss: 0.2590 - accuracy: 0.9027 - val_loss: 0.3770 - val_accuracy: 0.8642\n",
      "Epoch 17/100\n",
      "1875/1875 [==============================] - 39s 21ms/step - loss: 0.2543 - accuracy: 0.9053 - val_loss: 0.3535 - val_accuracy: 0.8779\n",
      "Epoch 18/100\n",
      "1875/1875 [==============================] - 39s 21ms/step - loss: 0.2510 - accuracy: 0.9064 - val_loss: 0.3803 - val_accuracy: 0.8675\n",
      "Epoch 19/100\n",
      "1875/1875 [==============================] - 41s 22ms/step - loss: 0.2484 - accuracy: 0.9067 - val_loss: 0.3821 - val_accuracy: 0.8713\n",
      "Epoch 20/100\n",
      "1875/1875 [==============================] - 41s 22ms/step - loss: 0.2436 - accuracy: 0.9086 - val_loss: 0.3780 - val_accuracy: 0.8759\n",
      "Epoch 21/100\n",
      "1875/1875 [==============================] - 39s 21ms/step - loss: 0.2433 - accuracy: 0.9086 - val_loss: 0.3712 - val_accuracy: 0.8721\n",
      "Epoch 22/100\n",
      "1875/1875 [==============================] - 40s 22ms/step - loss: 0.2386 - accuracy: 0.9108 - val_loss: 0.3746 - val_accuracy: 0.8779\n",
      "Epoch 23/100\n",
      "1875/1875 [==============================] - 39s 21ms/step - loss: 0.2355 - accuracy: 0.9109 - val_loss: 0.3866 - val_accuracy: 0.8680\n",
      "Epoch 24/100\n",
      "1875/1875 [==============================] - 39s 21ms/step - loss: 0.2349 - accuracy: 0.9114 - val_loss: 0.3907 - val_accuracy: 0.8716\n",
      "Epoch 25/100\n",
      "1875/1875 [==============================] - 38s 20ms/step - loss: 0.2316 - accuracy: 0.9129 - val_loss: 0.3627 - val_accuracy: 0.8788\n",
      "Epoch 26/100\n",
      "1875/1875 [==============================] - 39s 21ms/step - loss: 0.2282 - accuracy: 0.9139 - val_loss: 0.3670 - val_accuracy: 0.8780\n",
      "Epoch 27/100\n",
      "1875/1875 [==============================] - 20s 11ms/step - loss: 0.2264 - accuracy: 0.9156 - val_loss: 0.3756 - val_accuracy: 0.8776\n",
      "Epoch 28/100\n",
      "1875/1875 [==============================] - 18s 10ms/step - loss: 0.2258 - accuracy: 0.9154 - val_loss: 0.3807 - val_accuracy: 0.8759\n",
      "Epoch 29/100\n",
      "1875/1875 [==============================] - 18s 10ms/step - loss: 0.2243 - accuracy: 0.9158 - val_loss: 0.3666 - val_accuracy: 0.8808\n",
      "Epoch 30/100\n",
      "1875/1875 [==============================] - 18s 9ms/step - loss: 0.2217 - accuracy: 0.9166 - val_loss: 0.3870 - val_accuracy: 0.8817\n",
      "Epoch 31/100\n",
      "1875/1875 [==============================] - 18s 10ms/step - loss: 0.2197 - accuracy: 0.9172 - val_loss: 0.4008 - val_accuracy: 0.8667\n",
      "Epoch 32/100\n",
      "1875/1875 [==============================] - 18s 10ms/step - loss: 0.2179 - accuracy: 0.9180 - val_loss: 0.4468 - val_accuracy: 0.8538\n",
      "Epoch 33/100\n",
      "1875/1875 [==============================] - 18s 10ms/step - loss: 0.2159 - accuracy: 0.9195 - val_loss: 0.4001 - val_accuracy: 0.8732\n",
      "Epoch 34/100\n",
      "1875/1875 [==============================] - 18s 10ms/step - loss: 0.2146 - accuracy: 0.9200 - val_loss: 0.3713 - val_accuracy: 0.8791\n",
      "Epoch 35/100\n",
      "1875/1875 [==============================] - 18s 10ms/step - loss: 0.2131 - accuracy: 0.9193 - val_loss: 0.3849 - val_accuracy: 0.8750\n",
      "Epoch 36/100\n",
      "1875/1875 [==============================] - 18s 9ms/step - loss: 0.2107 - accuracy: 0.9218 - val_loss: 0.3804 - val_accuracy: 0.8778\n",
      "Epoch 37/100\n",
      "1381/1875 [=====================>........] - ETA: 4s - loss: 0.2088 - accuracy: 0.9212"
     ]
    }
   ],
   "source": [
    "model = MyModel()\n",
    "model.compile(optimizer='adam',\n",
    "              loss='sparse_categorical_crossentropy',\n",
    "              metrics=['accuracy'])\n",
    "model.fit(train_ds, validation_data=test_ds, epochs=EPOCHS)"
   ]
  }
 ],
 "metadata": {
  "kernelspec": {
   "display_name": "Python 3",
   "language": "python",
   "name": "python3"
  },
  "language_info": {
   "codemirror_mode": {
    "name": "ipython",
    "version": 3
   },
   "file_extension": ".py",
   "mimetype": "text/x-python",
   "name": "python",
   "nbconvert_exporter": "python",
   "pygments_lexer": "ipython3",
   "version": "3.8.8"
  }
 },
 "nbformat": 4,
 "nbformat_minor": 2
}
